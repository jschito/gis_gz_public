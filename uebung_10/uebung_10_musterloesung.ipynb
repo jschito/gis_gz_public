{
 "cells": [
  {
   "cell_type": "markdown",
   "metadata": {},
   "source": [
    "# GIS GZ – Übung 10: Datenanalyse I <span style=\"color:red\">(Musterlösung)</span>"
   ]
  },
  {
   "cell_type": "markdown",
   "metadata": {},
   "source": [
    "### Grobziele\n",
    "* Sie können die Effekte unterschiedlicher Interpolationsmethoden wissenschaftlich untersuchen. \n",
    "\n",
    "### Feinziele\n",
    "* Sie können die Funktionsweisen der Kernel Density Estimation (KDE) und Inverse Distance Weighting (IDW) erklären und ihre Unterschiede beschreiben. \n",
    "* Sie können Kernel Density Estimation (KDE) und Inverse Distance Weighting (IDW) implementieren. \n",
    "* Sie können wissenschaftlich untersuchen, wie sich die Resultate durch das Ändern der Eingangsparameter ändern. \n",
    "\n",
    "### Projekt\n",
    "* Sie arbeiten an Ihrem Projekt und fokussieren auf die Datenanalyse. "
   ]
  },
  {
   "cell_type": "markdown",
   "metadata": {},
   "source": [
    "## Einleitung\n",
    "In der heutigen Übung betrachten wir die Methoden *Kernel Density Estimation (KDE)* und *Inverse Distance Weighting (IDW)*. Während Erstere ein Verfahren zur Schätzung der Wahrscheinlichkeitsverteilung einer Zufallsvariablen ist, ist Letzere eine in der GIS-Welt häufig angewandte Interpolationsmethode, um Werte zwischen bekannten Messwerten zu interpolieren. Es geht wie häufig in der Welt hauptsächlich um das erste geographische Gesetz nach Waldo Tobler:  \n",
    "> Everything is related to everything else, but near things are more related than distant things.\n",
    ">\n",
    "> -- <cite>Tobler W., (1970) \"A computer movie simulating urban growth in the Detroit region\". Economic Geography, 46(Supplement): 234–240.</cite>\n",
    "\n",
    "Angenommen, es existiert ein räumliches Phänomen, aber Sie sind (aus wirtschaftlichen oder sonstigen Gründen) nur imstande, einige Punkte zu messen und daher eine Stichprobe zu nehmen, so müssen Sie die dazwischenliegenden Werte interpolieren. Das Ziel der heutigen Übung ist es, beide Verfahren selbstständig zu implementieren. Dabei sollen Sie auch unterschiedliche Kernels anwenden und deren Auswirkungen auf die resultierenden Karten untersuchen. \n",
    "\n",
    "### Dateien\n",
    "Wir verwenden für diese Aufgabe den *Meuse*-Datensatz (siehe http://spatial-analyst.net/book/meusegrids), der von Burrough und McDonnel 1998 erstellt wurde. Der Datensatz umfasst vier Schwermetalle im Oberboden (Einheit: **ppm**) und andere Kovariaten, die entlang des Flusses *Meuse* in der oberen Bodenschicht gemessen wurde. Es scheint so, als ob der Fluss die mit Schwermetall belasteten Sedimente flussabwärts transportieren und entlang des Flusses und im Flussdelta ablagern würde. Im Sinne von Tobler's First Law of Geography dürfte man deshalb erwarten, dass die Schwermetallwerte im ganzen Untersuchungsgebiet nicht gleich verteilt sind.\n",
    "> -- <cite>P.A. Burrough, R.A. McDonnell, 1998. Principles of Geographical Information Systems. Oxford University Press.</cite>\n",
    "\n",
    "In dieser Aufgabe erhalten Sie die folgenden Dateien:\n",
    "* `meuse.json` ein JSON mit Messwerten mit Schwermetallen, die an verschiedenen Puntken entlang des Flusses Meuse aufgezeichnet wurden. Darin sind u.a. folgende Attribute enthalten:\n",
    "  * cadmium: Cd-Gehalt in ppm\n",
    "  * copper: Cu-Gehalt in ppm\n",
    "  * lead: Pb-Gehalt in ppm\n",
    "  * zinc: Zn-Gehalt in ppm\n",
    "  * dist: Distanz zum Ufer der Meuse\n",
    "  * ffreq: jährliche Häufigkeit von Überflutungen\n",
    "  * soil: \n",
    "* `mask.tif` ein leeres Raster im Flussdelta des Untersuchungsgebiet in einer Auflösung von 25 m. Alle Pixel mit dem Wert 1 kennzeichnen Pixel innerhalb des Studiengebiets. Alle anderen Werte sind dem `nodata`-Wert zugeordnet und gehören nicht zum Untersuchungsgebiet.\n",
    "* `topomap2m` eine topographische Karte des Untersuchungsgebiets in einer Auflösung von 2 m. Diese dient Ihnen zur Übersicht.\n",
    "\n",
    "Die Dateien sind allesamt im folgenden projizierten CRS gespeichert: **proj4: +init=epsg:28992**\n",
    "\n",
    "### Vorgehen <span style=\"color:orange\">(noch bearbeiten)</span>\n",
    "* Iterieren durch alle Pixel\n",
    "* Für jeden Pixel, iteriere durch alle Datenpunkte\n",
    "* Finde heraus, wieviel jeder Datenpunkte zu dem Wert des Pixels beiträgt\n",
    "* Für die Gewichtung kann man unterschiedliche Methoden verwenden. Wir betrachte Kernel Density Estimation (KDE) und Inverse Distance Weighting (IDW).\n",
    "\n",
    "## Hilfsfunktionen"
   ]
  },
  {
   "cell_type": "code",
   "execution_count": 1,
   "metadata": {},
   "outputs": [],
   "source": [
    "def show_raster_map(array):\n",
    "    \"\"\"\n",
    "    Loads and plots the raster data\n",
    "    :param array: The array that should be visualized\n",
    "    :return:\n",
    "    \"\"\"    \n",
    "    plt.figure(figsize=(20, 50))\n",
    "    plt.imshow(array, cmap='hot')\n",
    "    plt.show()\n",
    "    \n",
    "def compute_distance(coords_1, coords_2):\n",
    "    \"\"\"\n",
    "    Computes the distance between two coordinates given that they are represented by projected coordinates\n",
    "    :param coord_1: A tuple or list containing a coordinate pair\n",
    "    :param coord_2: A tuple or list containing a coordinate pair\n",
    "    :return: The distance given in the same length dimension as they are stored in the used file\n",
    "    \"\"\"\n",
    "    delta_y = coords_1[0] - coords_2[0]\n",
    "    delta_x = coords_1[1] - coords_2[1]\n",
    "    return math.sqrt(math.pow(delta_x, 2) + math.pow(delta_y, 2))"
   ]
  },
  {
   "cell_type": "markdown",
   "metadata": {},
   "source": [
    "# Daten laden und wichtige Variablen definieren"
   ]
  },
  {
   "cell_type": "code",
   "execution_count": 2,
   "metadata": {},
   "outputs": [],
   "source": [
    "%matplotlib inline\n",
    "import os\n",
    "import matplotlib.pyplot as plt\n",
    "import numpy as np\n",
    "import numpy.ma as ma\n",
    "import rasterio\n",
    "import fiona\n",
    "import math\n",
    "import random\n",
    "from pprint import pprint\n",
    "\n",
    "\n",
    "# Define important paths\n",
    "meuse_file = os.path.join('data', 'meuse.json')\n",
    "mask_file = os.path.join('data', 'mask.tif')\n",
    "topomap_file = os.path.join('data', 'topomap2m.tif')\n",
    "\n",
    "# Load the data sets\n",
    "meuse = fiona.open(meuse_file, 'r')\n",
    "mask = rasterio.open(mask_file, 'r')\n",
    "topomap = rasterio.open(topomap_file, 'r')\n",
    "\n",
    "# Read the first band of the ones raster\n",
    "mask_array = mask.read(1)\n",
    "kde_array = np.zeros(mask.shape)\n",
    "idw_array = np.zeros(mask.shape)\n",
    "\n",
    "# Determine other important settings from the input raster\n",
    "no_data = mask.profile['nodata']\n",
    "fwd = mask.profile['transform']\n",
    "crs = mask.profile['crs']\n",
    "    \n",
    "\n"
   ]
  },
  {
   "cell_type": "markdown",
   "metadata": {},
   "source": [
    "# Aufgabe 1: KDE mittels Gauss Kernel\n",
    "Implementieren sie KDE mit einem Gauss Kernel anhand der folgenden Formeln:\n",
    "\n",
    "![title](data/kde.png)\n",
    "\n",
    "![title](data/gauss.png)\n",
    "\n",
    "Verwenden sie die Zinkkonzentration als Gewichtung. Wo befinden sich Ihrer Meinung nach die höchsten Konzentrationen an Zink?"
   ]
  },
  {
   "cell_type": "code",
   "execution_count": 3,
   "metadata": {},
   "outputs": [],
   "source": [
    "def kde(pixel_coordinates, data_points=meuse, fwd=fwd):\n",
    "    \"\"\"\n",
    "    Computes the distance between two coordinates given that they are represented by projected coordinates\n",
    "    :param pixel_coordinates: A tuple or list containing a coordinate pair\n",
    "    :param data_points: The opened point feature data set\n",
    "    :param fwd: The Affine object by which the forward transformation can be executed\n",
    "    :return: The result that should be written into the corresponding pixel\n",
    "    \"\"\"\n",
    "    # Convert the pixel coordinates to real coordinates by using the fwd transformation\n",
    "    cell_coordinates = fwd * pixel_coordinates\n",
    "    \n",
    "    # Set important values and set n and sum to zero\n",
    "    h = 100\n",
    "    n = 0\n",
    "    sum = 0\n",
    "    result = 0\n",
    "    \n",
    "    # Iterate through all points of the point feature data set, compute the weight by using the formula for \n",
    "    # the kernel, and sum it up\n",
    "    for i in data_points:\n",
    "        data_point_coordinates = i['geometry']['coordinates']\n",
    "        u_i = i['properties']['zinc']\n",
    "        \n",
    "        d = compute_distance(cell_coordinates, data_point_coordinates)\n",
    "        u = d / h\n",
    "        K_u = 1 / math.sqrt(2 * math.pi) * math.exp(-math.pow(u, 2) / 2)\n",
    "        sum +=  K_u * u_i\n",
    "        n += 1\n",
    "    \n",
    "    # Last step of KDE: Apply the formula to the determined sum and return the result\n",
    "    result = ((1 / (n * h)) * sum)\n",
    "    return result"
   ]
  },
  {
   "cell_type": "markdown",
   "metadata": {},
   "source": [
    "# Aufgabe 2: Inverse Distance Weighting\n",
    "Implementieren sie IDW anhand der folgenden Formeln:\n",
    "\n",
    "![title](data/idw.png)\n",
    "\n",
    "Verwenden sie die Zinkkonzentration als Gewichtung. Wo befinden sich Ihrer Meinung nach die höchsten Konzentrationen an Zink?"
   ]
  },
  {
   "cell_type": "code",
   "execution_count": 4,
   "metadata": {},
   "outputs": [],
   "source": [
    "def idw(pixel_coordinates, data_points=meuse, fwd=fwd):\n",
    "    \"\"\"\n",
    "    Computes the distance between two coordinates given that they are represented by projected coordinates\n",
    "    :param pixel_coordinates: A tuple or list containing a coordinate pair\n",
    "    :param data_points: The opened point feature data set\n",
    "    :param fwd: The Affine object by which the forward transformation can be executed\n",
    "    :return: The result that should be written into the corresponding pixel\n",
    "    \"\"\"\n",
    "    \n",
    "    # Convert the pixel coordinates to real coordinates by using the fwd transformation\n",
    "    cell_coordinates = fwd * pixel_coordinates\n",
    "    \n",
    "    # Set important values and set count and sum to zero\n",
    "    p = 4\n",
    "    count = 0\n",
    "    sum = 0\n",
    "    sum_of_weights = 0\n",
    "    result = 0\n",
    "    \n",
    "    # Iterate through all points of the point feature data set, compute the IDW value by multiplying the \n",
    "    # weight with the according value and sum both, the value and just the weights up\n",
    "    for i in data_points:\n",
    "        data_point_coordinates = i['geometry']['coordinates']\n",
    "        u_i = i['properties']['zinc']\n",
    "        \n",
    "        d = compute_distance(cell_coordinates, data_point_coordinates)\n",
    "        if (d==0):\n",
    "            w_i = zinc\n",
    "        else:\n",
    "            w_i = math.pow(d, -p) \n",
    "            \n",
    "        sum_of_weights += w_i\n",
    "        sum += w_i * u_i\n",
    "    \n",
    "    # Last step of IDW: Divide the IDW sum by the sum of the weights and return it\n",
    "    result = sum / sum_of_weights\n",
    "    return result"
   ]
  },
  {
   "cell_type": "markdown",
   "metadata": {},
   "source": [
    "# Aufgabe 3: KDE Modifiziert\n",
    "\n",
    "Wie müssten Sie KDE modifizieren, um Ergebnisse zu erhalten, die mit IDW vergleichbarer sind?"
   ]
  },
  {
   "cell_type": "code",
   "execution_count": 5,
   "metadata": {},
   "outputs": [],
   "source": [
    "def kde_mod(pixel_coordinates, data_points=meuse, fwd=fwd):\n",
    "    \"\"\"\n",
    "    Computes the distance between two coordinates given that they are represented by projected coordinates\n",
    "    :param pixel_coordinates: A tuple or list containing a coordinate pair\n",
    "    :param data_points: The opened point feature data set\n",
    "    :param fwd: The Affine object by which the forward transformation can be executed\n",
    "    :return: The result that should be written into the corresponding pixel\n",
    "    \"\"\"\n",
    "    # Convert the pixel coordinates to real coordinates by using the fwd transformation\n",
    "    cell_coordinates = fwd * pixel_coordinates\n",
    "    \n",
    "    # Set important values and set n and sum to zero\n",
    "    h = 100\n",
    "    n = 0\n",
    "    sum = 0\n",
    "    sum_of_weights = 0\n",
    "    result = 0\n",
    "    \n",
    "    # Iterate through all points of the point feature data set, compute the weight by using the formula for \n",
    "    # the kernel, and sum it up\n",
    "    for i in data_points:\n",
    "        data_point_coordinates = i['geometry']['coordinates']\n",
    "        u_i = i['properties']['zinc']\n",
    "        \n",
    "        d = compute_distance(cell_coordinates, data_point_coordinates)\n",
    "        u = d / h\n",
    "        K_u = 1 / math.sqrt(2 * math.pi) * math.exp(-math.pow(u, 2) / 2)\n",
    "        sum_of_weights += K_u\n",
    "        sum +=  K_u * u_i\n",
    "        n += 1\n",
    "    \n",
    "    # Last step of KDE: Apply the formula to the determined sum and return the result\n",
    "    result = ((1 / (n * h)) * sum) / sum_of_weights\n",
    "    return result"
   ]
  },
  {
   "cell_type": "markdown",
   "metadata": {},
   "source": [
    "# Main Loop\n",
    "Das Raster wird Pixel für Pixel abgetastet. Wenn ein Pixel innerhalb der Maske liegt, dann wird der jeweilige Werte von KDE und IDW ermittelt und zugewiesen.\n",
    "Verwenden Sie `kde_array` und `idw_array` um ihre berechneten Werte zu speichern."
   ]
  },
  {
   "cell_type": "code",
   "execution_count": 6,
   "metadata": {
    "scrolled": false
   },
   "outputs": [
    {
     "data": {
      "image/png": "[encoded data removed]",
      "text/plain": [
       "<Figure size 1440x3600 with 1 Axes>"
      ]
     },
     "metadata": {
      "needs_background": "light"
     },
     "output_type": "display_data"
    },
    {
     "data": {
      "image/png": "[encoded data removed]",
      "text/plain": [
       "<Figure size 1440x3600 with 1 Axes>"
      ]
     },
     "metadata": {
      "needs_background": "light"
     },
     "output_type": "display_data"
    }
   ],
   "source": [
    "# Iterate through the ones array and consider just the values which are not no_data\n",
    "for y in range(mask_array.shape[0]):\n",
    "    for x in range(mask_array.shape[1]):\n",
    "        \n",
    "        if mask_array[y][x] != no_data:\n",
    "            kde_array[y][x] = kde((x, y))\n",
    "            idw_array[y][x] = idw((x, y))\n",
    "        \n",
    "        else:\n",
    "            kde_array[y][x] = -1\n",
    "            idw_array[y][x] = -1\n",
    "         \n",
    "masked_values = np.where(kde_array == -1, 1, 0)\n",
    "masked_kde_array = ma.array(kde_array, mask=masked_values)\n",
    "show_raster_map(masked_kde_array)\n",
    "masked_idw_array = ma.array(idw_array, mask=masked_values)\n",
    "show_raster_map(masked_idw_array)"
   ]
  },
  {
   "cell_type": "code",
   "execution_count": null,
   "metadata": {},
   "outputs": [],
   "source": []
  }
 ],
 "metadata": {
  "kernelspec": {
   "display_name": "Python 3",
   "language": "python",
   "name": "python3"
  },
  "language_info": {
   "codemirror_mode": {
    "name": "ipython",
    "version": 3
   },
   "file_extension": ".py",
   "mimetype": "text/x-python",
   "name": "python",
   "nbconvert_exporter": "python",
   "pygments_lexer": "ipython3",
   "version": "3.8.5"
  }
 },
 "nbformat": 4,
 "nbformat_minor": 4
}
