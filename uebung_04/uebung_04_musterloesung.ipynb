{
 "cells": [
  {
   "cell_type": "markdown",
   "metadata": {},
   "source": [
    "# GIS GZ – Übung 4: Geoprocessing von Vektordaten <span style=\"color:red\">(Musterlösung)</span>"
   ]
  },
  {
   "cell_type": "markdown",
   "metadata": {},
   "source": [
    "## Einleitung\n",
    "In der letzten Übung haben Sie gelernt, wie Sie Geodaten mit Fiona verarbeiten können. Die Datenverarbeitung wird in dieser Übung weiter vertieft. Sie werden lernen wie man die Projektion zwischen zwei Koordinatensystemen berechnet und anschliessend einen Verschnitt von geographischen Flächen durchführen. "
   ]
  },
  {
   "cell_type": "markdown",
   "metadata": {},
   "source": [
    "### Grobziele\n",
    "* Sie können Python einsetzen, um mehrere Datensätze gleichzeitig zu verarbeiten. \n",
    "* Sie können Outputs korrekt interpretieren und eigenständig nach Quellen suchen, die das Lösen eines Problems unterstützen.\n",
    "* Sie können geometrische Objektklassen erstellen, abrufen und darstellen.\n",
    "\n",
    "\n",
    "### Feinziele\n",
    "* Sie können Datensätze mit Fiona laden und speichern. \n",
    "* Sie können Vektordaten in ein anderes Koordinatensystem projizieren.\n",
    "* Sie können Polygone unterschiedlicher Datensätze miteinander verschneiden und als separate Datei ausgeben. \n",
    "* Sie können die Fläche von Polygonen bestimmen.\n",
    "\n",
    "### Projekt\n",
    "* Sie arbeiten an der Lösung Ihrer Fragestellung.\n",
    "* Sie besprechen Ihr Konzept und das weiteres Vorgehen mit der Übungsleitung."
   ]
  },
  {
   "cell_type": "markdown",
   "metadata": {},
   "source": [
    "## Aufgabe 1: Projektionen, Verschnitt"
   ]
  },
  {
   "cell_type": "markdown",
   "metadata": {},
   "source": [
    "In dieser Aufgabe erhalten Sie zwei Dateien (Quelle: https://data.stadt-zuerich.ch/dataset?tags=geodaten):\n",
    "* `stadtkreise.json`\n",
    "* `clc_wald_kanton_zh.json`\n",
    "\n",
    "\n",
    "Die erste Datei enthält die Kreise der Stadt Zürich. Die zweite Datei enthält alle Waldflächen des Kantons Zürich.\n",
    "Ihre Aufgabe ist es zunächst herauszufinden, in welchen Koordinatensystemen die Daten gespeichert sind, und sie in ein gemeinsames Koordinatensystem zu überführen (vorzugsweise CH1903+/LV95). Anschliessend werden Sie beide Datensätze miteinander verschneiden, um die Waldfläche pro Stadtkreis bestimmen zu können. "
   ]
  },
  {
   "cell_type": "markdown",
   "metadata": {},
   "source": [
    "### Verwendete libraries und Funktionen"
   ]
  },
  {
   "cell_type": "markdown",
   "metadata": {},
   "source": [
    "Zuerst importieren wir die nötigen libraries der heutigen Übung. Standardmässig verwenden wir für `numpy`, `pandas` und `matplotlib` Abkürzungen."
   ]
  },
  {
   "cell_type": "code",
   "execution_count": 2,
   "metadata": {},
   "outputs": [],
   "source": [
    "import os\n",
    "import fiona\n",
    "from pprint import pprint\n",
    "import pyproj\n",
    "import matplotlib.pyplot as plt\n",
    "import geopandas\n",
    "from fiona.crs import from_epsg\n",
    "from shapely.geometry import MultiPolygon, Polygon, mapping\n",
    "from shapely.ops import cascaded_union\n",
    "from pyproj import Transformer"
   ]
  },
  {
   "cell_type": "markdown",
   "metadata": {},
   "source": [
    "### Zusatzfunktion zum Plotten der Resultate"
   ]
  },
  {
   "cell_type": "code",
   "execution_count": 3,
   "metadata": {},
   "outputs": [],
   "source": [
    "def show_map(map_layer_1, map_layer_2):\n",
    "    \"\"\"\n",
    "    Plots the map with the canton of Zurich and the rivers\n",
    "    :param map_layer_1: The first layer.\n",
    "    :param map_layer_2: The second layer.\n",
    "    :return:\n",
    "    \"\"\"\n",
    "\n",
    "    # Plot the map with the districts\n",
    "    districts = geopandas.read_file(map_layer_1)\n",
    "    fig, ax = plt.subplots(figsize=(10, 8))\n",
    "    ax.set_aspect('equal')\n",
    "    districts.plot(ax=ax, color='white', edgecolor='black')\n",
    "\n",
    "    # Plot the map with the rivers\n",
    "    forests = geopandas.read_file(map_layer_2)\n",
    "    forests.plot(ax=ax, color='red')\n",
    "\n",
    "    # Show the whole plot and return\n",
    "    plt.draw()\n",
    "    return"
   ]
  },
  {
   "cell_type": "markdown",
   "metadata": {},
   "source": [
    "### Zusatzfunktion zum Transformieren der Geometrie\n",
    "#### Aufgabe\n",
    "Wenden Sie an der markierten Stelle pyproj.transform() an, um die projizierten x- und y-Koordinaten zu berechnen. Sie dürfen die ursprünglichen Variablen überschreiben. "
   ]
  },
  {
   "cell_type": "code",
   "execution_count": 9,
   "metadata": {},
   "outputs": [],
   "source": [
    "def transform_geometry(src_data, output_proj, tgt_object):\n",
    "    \"\"\"\n",
    "    Transforms Polygons to MultiPolygons and projects to the target CRS, if it is not already saved in this CRS\n",
    "    :param src_data: The opened source Fiona object\n",
    "    :param output_proj: The target output projection\n",
    "    :param tgt_object: The opened target Fiona object\n",
    "    :return: The united geometry object\n",
    "    \"\"\"\n",
    "\n",
    "    # Determine the input projection\n",
    "    input_proj = pyproj.Proj(init=src_data.crs['init'])\n",
    "   \n",
    "    # Define the projection\n",
    "    transformer = Transformer.from_proj(src_data.crs['init'], output_proj, always_xy=True)\n",
    "    \n",
    "    # Initialize an empty list in which the geometries will be written\n",
    "    list_with_shapely_objects = []\n",
    "\n",
    "    # Iterate through all entries and determine the type for each entry and the coordinates\n",
    "    for f in src_data:\n",
    "        geom_type = f['geometry']['type']\n",
    "        full_coords = f['geometry']['coordinates']\n",
    "\n",
    "        # As it can occur that the input geometry object is a Polygon or a MultiPolygon, we must\n",
    "        # assert that the dimensionality stays the same for both cases. Thus, put the coordinates into a\n",
    "        # further list, if the geometry type should be a LineString\n",
    "        if geom_type == 'Polygon':\n",
    "            full_coords = [full_coords]\n",
    "\n",
    "        # Now, the structure should correspond to MultiPolygons in every case. Define an empty list for the\n",
    "        # coordinates and append the sublists determined by iteration through the original list.\n",
    "\n",
    "        record = []\n",
    "        for level_1 in full_coords:\n",
    "            level_2_list = []\n",
    "            for level_2 in level_1:\n",
    "                level_3_list = []\n",
    "                for (x2, y2, *z2) in transformer.itransform(level_2):\n",
    "                    level_3_list.append((x2, y2, *z2))\n",
    "                level_2_list.append(level_3_list)\n",
    "                list_with_shapely_objects.append(Polygon(level_3_list))\n",
    "            record.append(level_2_list)\n",
    "\n",
    "        # Overwrite the type and the coordinates with the new entries and add the new attribute entries\n",
    "        f['geometry']['type'] = 'MultiPolygon'\n",
    "        f['geometry']['coordinates'] = record\n",
    "        tgt_object.write(f)\n",
    "\n",
    "    # Conduct a cascaded union and return the united object\n",
    "    united_geometry = cascaded_union(list_with_shapely_objects)\n",
    "    return united_geometry"
   ]
  },
  {
   "cell_type": "markdown",
   "metadata": {},
   "source": [
    "### Zusatzfunktion zum Schreiben von Shapely-Geometrien in Files"
   ]
  },
  {
   "cell_type": "code",
   "execution_count": 10,
   "metadata": {},
   "outputs": [],
   "source": [
    "def write_geometries_to_files(shapely_objects, out_path, driver, crs, properties_schema=None,\n",
    "                              properties_entries=None):\n",
    "    \"\"\"\n",
    "    Writes shapely objects to an output file with the same properties for each row. Replaces write_vector_file()\n",
    "    :param list shapely_objects: A list containing all shapely objects\n",
    "    :param out_path: The output path including the target file ending\n",
    "    :param driver: The driver that should be used for writing the output file\n",
    "    :param crs: The CRS in which the coordinates are stored\n",
    "    :param dict properties_schema: The attribute scheme that must be written into the output. If the same schema as the\n",
    "    blueprint should be used, then pass it here separately\n",
    "    :param dict properties_entries: The properties that should be written into the output file\n",
    "    :return: Nothing, as files are generated\n",
    "    \"\"\"\n",
    "\n",
    "    # Check, whether the properties_entries have a subdictionary. If so, raise an Exception, as this is not implemented\n",
    "    # yet.\n",
    "    try:\n",
    "        properties_have_subdictionary = isinstance(type(properties_entries.values()), dict)\n",
    "    except AttributeError:\n",
    "        properties_have_subdictionary = False\n",
    "\n",
    "    if properties_have_subdictionary:\n",
    "        raise Exception('***ERROR!!! A dictionary with many properties has been passed while this function is only '\n",
    "                        'capable to write one property for all rows at the same time. Thus, reconsider the lower '\n",
    "                        'part of this function.')\n",
    "\n",
    "    # Check whether a schema and properties have been passed and write the information into two dictionaries\n",
    "    if (properties_schema is None) or (properties_entries is None):\n",
    "        new_schemes = dict()\n",
    "        new_entries = dict()\n",
    "    else:\n",
    "        new_schemes = properties_schema\n",
    "        new_entries = properties_entries\n",
    "\n",
    "    # INFO: in_object must be a Shapely geometry object (LineString, Point, MultiPoint, etc.)\n",
    "    # NOTE that all geometry objects must be of the same type!!!\n",
    "    # Determine the geometry type and define the target schema (crs is passed as an argument)\n",
    "    try:\n",
    "        geometry = shapely_objects[0].geometryType()\n",
    "    except TypeError:  # If not a list has been passed, but a single object\n",
    "        shapely_objects = [shapely_objects]\n",
    "        geometry = shapely_objects[0].geometryType()\n",
    "    target_schema = {'properties': new_schemes,\n",
    "                     'geometry': geometry}\n",
    "\n",
    "    # Write the objects to an output file\n",
    "    with fiona.open(out_path, 'w', driver=driver, schema=target_schema, crs=crs, encoding='utf-8') as dst:\n",
    "        for i in shapely_objects:\n",
    "            rec = dict()\n",
    "            rec['geometry'] = mapping(i)\n",
    "            rec['properties'] = new_entries\n",
    "            dst.write(rec)\n",
    "\n",
    "    print('GeoJSON file written.')\n",
    "    return"
   ]
  },
  {
   "cell_type": "markdown",
   "metadata": {},
   "source": [
    "### Hauptfunktion"
   ]
  },
  {
   "cell_type": "markdown",
   "metadata": {},
   "source": [
    "Wir definieren zuerst die Pfade, in welchen wir die Dateien finden oder speichern sollen. Dann definieren wir die Koordinatensysteme und das pyproj-Objekt, das die Output-Projektion bestimmt. Dannn initialisieren wir zwei Variablen, die wir später brauchen werden. Darin werden die vereinigten Geometrien der Wälder und der Stadtkreise geschrieben."
   ]
  },
  {
   "cell_type": "code",
   "execution_count": 11,
   "metadata": {},
   "outputs": [],
   "source": [
    "# Create the output dir, if it does not exist\n",
    "out_dir = os.path.join(os.path.abspath(''), 'results')\n",
    "if not os.path.exists(out_dir):\n",
    "    os.makedirs(out_dir)\n",
    "\n",
    "# Define the input and the output file\n",
    "in_file_districts = os.path.join(os.path.abspath(''), 'data', 'stadtkreise.json')\n",
    "out_file_districts = os.path.join(out_dir, 'stadtkreise_proj.json')\n",
    "\n",
    "in_file_forests = os.path.join(os.path.abspath(''), 'data', 'clc_wald_kanton_zh.json')\n",
    "out_file_forests = os.path.join(out_dir, 'clc_wald_kanton_zh_proj.json')\n",
    "out_file_forests_in_zurich = os.path.join(out_dir, 'clc_wald_stadt_zuerich_proj.json')\n",
    "out_file_stadt_zuerich = os.path.join(out_dir, 'stadt_zuerich.json')\n",
    "\n",
    "# Define the output projection and the output driver for every file\n",
    "out_crs = 'epsg:2056'\n",
    "output_proj = pyproj.Proj(out_crs)\n",
    "out_driver = 'GeoJSON'\n",
    "\n",
    "# Initialize the geometry objects that are determined by the upcoming loops\n",
    "united_forests = None\n",
    "united_districts = None"
   ]
  },
  {
   "cell_type": "markdown",
   "metadata": {},
   "source": [
    "Dann führen wir zwei Mal dasselbe aus: Wir öffnen das Ausgangsfile, iterieren über alle Einträge, projizieren die Koordinaten allenfalls in das Ziel-Koordinatensystem, speichern die Polygone neu als MultiPolygons ab und geben ein geometrisches Objekt heraus, das die Vereinigungsmenge aller Teilpolygone umfasst. Das tun wir für die Wälder des ganzen Kantons und für die Stadtkreise."
   ]
  },
  {
   "cell_type": "code",
   "execution_count": 12,
   "metadata": {},
   "outputs": [
    {
     "name": "stderr",
     "output_type": "stream",
     "text": [
      "C:\\Users\\jschito\\Anaconda3\\envs\\gis_gz\\lib\\site-packages\\pyproj\\crs\\crs.py:53: FutureWarning: '+init=<authority>:<code>' syntax is deprecated. '<authority>:<code>' is the preferred initialization method. When making the change, be mindful of axis order changes: https://pyproj4.github.io/pyproj/stable/gotchas.html#axis-order-changes-in-proj-6\n",
      "  return _prepare_from_string(\" \".join(pjargs))\n",
      "C:\\Users\\jschito\\Anaconda3\\envs\\gis_gz\\lib\\site-packages\\pyproj\\crs\\crs.py:294: FutureWarning: '+init=<authority>:<code>' syntax is deprecated. '<authority>:<code>' is the preferred initialization method. When making the change, be mindful of axis order changes: https://pyproj4.github.io/pyproj/stable/gotchas.html#axis-order-changes-in-proj-6\n",
      "  projstring = _prepare_from_string(\" \".join((projstring, projkwargs)))\n",
      "C:\\Users\\jschito\\Anaconda3\\envs\\gis_gz\\lib\\site-packages\\pyproj\\crs\\crs.py:53: FutureWarning: '+init=<authority>:<code>' syntax is deprecated. '<authority>:<code>' is the preferred initialization method. When making the change, be mindful of axis order changes: https://pyproj4.github.io/pyproj/stable/gotchas.html#axis-order-changes-in-proj-6\n",
      "  return _prepare_from_string(\" \".join(pjargs))\n",
      "C:\\Users\\jschito\\Anaconda3\\envs\\gis_gz\\lib\\site-packages\\pyproj\\crs\\crs.py:294: FutureWarning: '+init=<authority>:<code>' syntax is deprecated. '<authority>:<code>' is the preferred initialization method. When making the change, be mindful of axis order changes: https://pyproj4.github.io/pyproj/stable/gotchas.html#axis-order-changes-in-proj-6\n",
      "  projstring = _prepare_from_string(\" \".join((projstring, projkwargs)))\n"
     ]
    }
   ],
   "source": [
    "# ---------------------------------------------\n",
    "# PART 1) TRANSFORM THE FILE WITH THE DISTRICTS\n",
    "\n",
    "# Open the source file and determine the CRS, the projection, copy the schema (because dictionaries are mutable),\n",
    "# and set the geometry in every case to MultiPolygon.\n",
    "with fiona.open(in_file_forests) as forests_src:\n",
    "    forests_schema = forests_src.schema.copy()\n",
    "    forests_schema['geometry'] = 'MultiPolygon'\n",
    "\n",
    "    # Open the file that should be written\n",
    "    with fiona.open(out_file_forests, 'w', driver=out_driver, schema=forests_schema,\n",
    "                    crs=out_crs, encoding='utf-8') as forests_tgt:\n",
    "        united_forests = transform_geometry(forests_src, output_proj, forests_tgt)\n",
    "\n",
    "# ---------------------------------------------\n",
    "# PART 2) TRANSFORM THE FILE WITH THE FORESTS\n",
    "\n",
    "# Open the source file and determine the CRS, the projection, copy the schema (because dictionaries are mutable),\n",
    "# and set the geometry in every case to MultiPolygon.\n",
    "with fiona.open(in_file_districts) as districts_src:\n",
    "    districts_schema = districts_src.schema.copy()\n",
    "    districts_schema['geometry'] = 'MultiPolygon'\n",
    "            \n",
    "    # Open the files that should be written and iterate through the entries\n",
    "    with fiona.open(out_file_districts, 'w', driver=out_driver, schema=districts_schema,\n",
    "                    crs=out_crs, encoding='utf-8') as districts_tgt:\n",
    "        united_districts = transform_geometry(districts_src, output_proj, districts_tgt)"
   ]
  },
  {
   "cell_type": "markdown",
   "metadata": {},
   "source": [
    "#### Aufgabe\n",
    "Nun sind Sie an der Reihe: Erstellen Sie dort, wo `None`steht, ein geometrisches Shapely-Objekt, das die Wälder innerhalb Zürichs zurückgibt. Benutzen Sie dafür den vorgegebenen Variablennamen. Ähnlich bei der Anzahl an Hektaren, die der Wald in Zürich umfasst: Ersetzen Sie das zweite `None` durch eine Formel (siehe Shapely-Manual), die Ihnen die Fläche in Hektaren zurückgbit. \n",
    "\n",
    "Sie können die Funktion `write_geometries_to_files()` anwenden, um andere geometrische Objekte in einem bestimmten File zu speichern. Die Stadtgrenzen als File zu haben, ist sicher sinnvoll. Speichern Sie deshalb das Shapley-Objekt von `cascaded_union()` (siehe oben) in einem separaten File ab. "
   ]
  },
  {
   "cell_type": "code",
   "execution_count": 13,
   "metadata": {},
   "outputs": [
    {
     "name": "stdout",
     "output_type": "stream",
     "text": [
      "Die Fläche des Waldes in Zürich beträgt 2145.05 ha.\n",
      "GeoJSON file written.\n",
      "GeoJSON file written.\n",
      "Done.\n"
     ]
    },
    {
     "data": {
      "image/png": "[encoded data removed]",
      "text/plain": [
       "<Figure size 720x576 with 1 Axes>"
      ]
     },
     "metadata": {
      "needs_background": "light"
     },
     "output_type": "display_data"
    }
   ],
   "source": [
    "# ---------------------------------------------\n",
    "# PART 3) DETERMINE THE FORESTS IN THE CITY OF ZURICH\n",
    "# Intersect both objects and write the shapely geometry object to a new file\n",
    "forests_within_zurich = united_districts.intersection(united_forests)\n",
    "forests_area_ha = round(forests_within_zurich.area / 10000, 2)\n",
    "print('Die Fläche des Waldes in Zürich beträgt {} ha.'.format(forests_area_ha))\n",
    "write_geometries_to_files(forests_within_zurich, out_file_forests_in_zurich, out_driver, out_crs)\n",
    "\n",
    "# Write the united geometry of Zurich to a file\n",
    "write_geometries_to_files(united_districts, out_file_stadt_zuerich, out_driver, out_crs)\n",
    "\n",
    "# Plot the results\n",
    "show_map(map_layer_1=out_file_districts, map_layer_2=out_file_forests_in_zurich)\n",
    "print('Done.')"
   ]
  },
  {
   "cell_type": "markdown",
   "metadata": {},
   "source": [
    "## Aufgabe 2 (optional)\n",
    "Berechnen Sie für jeden Stadtkreis deren Waldfläche mit einer geeigneten Shapely-Methode und speichern Sie diese Information als neues Attribut direkt ins File mit den Stadtkreisen. Beachten Sie, dass Sie hierfür das Schema anpassen müssen. "
   ]
  },
  {
   "cell_type": "code",
   "execution_count": null,
   "metadata": {},
   "outputs": [],
   "source": []
  },
  {
   "cell_type": "markdown",
   "metadata": {},
   "source": [
    "# Erkenntnisse"
   ]
  },
  {
   "cell_type": "markdown",
   "metadata": {},
   "source": [
    "Mit grosser Wahrscheinlichkeit beinhaltete die heutige Übung viel Neues für Sie. Welche Parameter konnten Sie modellieren, welche nicht? Notieren Sie im anschliessenden Feld Ihre wichtigsten Erkenntnisse von heute:"
   ]
  },
  {
   "cell_type": "markdown",
   "metadata": {},
   "source": [
    "*[Ihre Notizen]*"
   ]
  },
  {
   "cell_type": "markdown",
   "metadata": {},
   "source": [
    "# Projekt\n",
    "Arbeiten Sie am Projekt weiter und wenden Sie das, was Sie heute gelernt haben, auf Ihr Projekt an. Bereiten Sie die Daten so vor, dass wir nächste Woche mit der vektorbasierten Datenverarbeitung beginnen können. Bestimmen Sie zudem alle Referenzsysteme Ihrer Daten – es kann nämlich vorkommen, dass die Daten in unterschiedlichen Referenzsystemen gespeichert sind. "
   ]
  }
 ],
 "metadata": {
  "kernelspec": {
   "display_name": "Python 3",
   "language": "python",
   "name": "python3"
  },
  "language_info": {
   "codemirror_mode": {
    "name": "ipython",
    "version": 3
   },
   "file_extension": ".py",
   "mimetype": "text/x-python",
   "name": "python",
   "nbconvert_exporter": "python",
   "pygments_lexer": "ipython3",
   "version": "3.8.5"
  }
 },
 "nbformat": 4,
 "nbformat_minor": 2
}
