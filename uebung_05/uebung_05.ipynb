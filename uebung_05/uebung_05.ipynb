{
 "cells": [
  {
   "cell_type": "markdown",
   "metadata": {},
   "source": [
    "# GIS GZ – Übung 5: Geoprocessing von Rasterdaten"
   ]
  },
  {
   "cell_type": "markdown",
   "metadata": {},
   "source": [
    "## Einleitung\n",
    "In den letzten Wochen haben Sie gelernt, wie Sie Geodaten mit Fiona verarbeiten können. Heute setzen wir den Fokus auf Rasterioperationen und somit auf die library Rasterio, die in letzter Zeit sehr mächtig geworden ist. Das Ziel der heutigen Übung ist es, aus einem Rasterdatensatz die Lärmemissionen pro Stadtkreis zu ermitteln und diese Information dann in den Stadtkreis-Vektordatensatz zurückzuführen, um die gemittelte Lärmemission pro Kreis darzustellen. "
   ]
  },
  {
   "cell_type": "markdown",
   "metadata": {},
   "source": [
    "### Grobziele\n",
    "* Sie können unterschiedliche Funktionen auf Rasterdaten anwenden, um somit den Nutzen zellbasierter Operationen auszuschöpfen. \n",
    "\n",
    "### Feinziele\n",
    "* Sie können die Funktionsweise von \\*args und \\**kwargs erklären und in der Praxis anwenden.\n",
    "* Sie können Datensätze mit Rasterio laden, mit mathematischen Operationen verarbeiten und speichern. \n",
    "* Sie können den Rasterdatensatz mit einem Vektordatensatz maskieren. \n",
    "* Sie können extrahierte Daten an einen Vektordatensatz hängen und diesen darstellen.\n",
    "\n",
    "### Projekt\n",
    "* Sie arbeiten an der Lösung Ihrer Fragestellung und wenden die erlernten Techniken aktiv an. \n",
    "* Sie können weitere Werkzeuge von Rasterio auf Ihr Projekt anwenden (z.B. Vektordaten rastern, Raster Algebra-Operationen anwenden, Resamplen und Profil-Einstellungen korrekt setzen)."
   ]
  },
  {
   "cell_type": "markdown",
   "metadata": {},
   "source": [
    "## Aufgabe 1: Kombinierte Analyse von Raster und Vektordaten"
   ]
  },
  {
   "cell_type": "markdown",
   "metadata": {},
   "source": [
    "In dieser Aufgabe erhalten Sie drei Dateien:\n",
    "* `stadtkreise_proj.json` die Stadtkreise der Stadt Zürich\n",
    "* `strassenlaerm_tag.tif` die Lärmemissionskarte bei Tag\n",
    "* `strassenlaerm_nacht.tif` die Lärmemissionskarte bei Nacht\n",
    "\n",
    "Alle Datensätze sind im Landeskoordinatensystem CH1903+/LV95 gespeichert. \n",
    "Führen Sie zunächst die Funktion show_input_map(filename) aus, um den Datensatz zu sehen. Sie werden merken, dass das Raster rechteckförmig ausgeschnitten ist. \n",
    "Benutzen Sie die Vektordaten (Stadtkreise, aber auch die Grenzen der ganzen Stadt Zürich), um die Werte der einzelnen Kreise zu extrahieren und die Werte auf dem Raster zu maskieren.\n",
    "\n",
    "Der folgende Code enthält 3 Stellen, an denen Sie Zeilen ergänzen sollen:\n",
    "* TODO(1) in `calculate_average_noise()`: Berechnen Sie den Durchschnittswert des Rasters (nur nonzero-Werte) für alle Stadtkreise und fügen Sie die Werte in eine Liste ein.\n",
    "* TODO(2) in save_map(open_file, save_file, average_noise_by_kreis): Erstellen Sie ein neues Shapefile indem sie das alte verwenden und um das zusätzliche Attribut 'avg_strassenlaerm_tag' erweitern. Fügen Sie dann die Werte aus TODO(1) ein.\n",
    "* TODO(3) am Ende: Zeigen Sie das neue Shapefile als Choroplethenkarte über das Attribut 'avg_strassenlaerm_tag' an, verwenden Sie dafür show_result_map(filename, attribute)."
   ]
  },
  {
   "cell_type": "markdown",
   "metadata": {},
   "source": [
    "### Verwendete libraries und Funktionen"
   ]
  },
  {
   "cell_type": "markdown",
   "metadata": {},
   "source": [
    "Zuerst importieren wir die nötigen libraries der heutigen Übung. Standardmässig verwenden wir für `numpy`, `pandas` und `matplotlib` Abkürzungen."
   ]
  },
  {
   "cell_type": "code",
   "execution_count": 1,
   "metadata": {},
   "outputs": [],
   "source": [
    "import os\n",
    "import rasterio\n",
    "import rasterio.mask\n",
    "from rasterio.plot import show\n",
    "import fiona\n",
    "import geopandas as gpd\n",
    "import numpy as np\n",
    "import matplotlib.pyplot as plt"
   ]
  },
  {
   "cell_type": "markdown",
   "metadata": {},
   "source": [
    "### Definieren wichtiger Pfade und Ordner"
   ]
  },
  {
   "cell_type": "code",
   "execution_count": 2,
   "metadata": {},
   "outputs": [],
   "source": [
    "# define important directories\n",
    "data_dir = os.path.join(os.path.abspath(''), 'data')\n",
    "out_dir = os.path.join(os.path.abspath(''), 'results')\n",
    "if not os.path.exists(out_dir):\n",
    "    os.makedirs(out_dir)"
   ]
  },
  {
   "cell_type": "markdown",
   "metadata": {},
   "source": [
    "### Zusatzfunktion zum Plotten des Eingabe Datensatzes"
   ]
  },
  {
   "cell_type": "code",
   "execution_count": 3,
   "metadata": {},
   "outputs": [],
   "source": [
    "def show_input_map(path_to_file):\n",
    "    \"\"\"\n",
    "    Loads and plots the raster data\n",
    "    :param path_to_file: Path to the GeoTiff with one band\n",
    "    :return:\n",
    "    \"\"\"\n",
    "    \n",
    "    plt.figure(figsize=(20, 20))\n",
    "    raster = rasterio.open(path_to_file)\n",
    "    plt.imshow(raster.read(1), cmap='hot')\n",
    "    plt.show()\n",
    "    raster.close()"
   ]
  },
  {
   "cell_type": "markdown",
   "metadata": {},
   "source": [
    "### Zusatzfunktion zum Plotten der Resultate"
   ]
  },
  {
   "cell_type": "code",
   "execution_count": 4,
   "metadata": {},
   "outputs": [],
   "source": [
    "def show_result_map(filename, attribute):\n",
    "    \"\"\"\n",
    "    Plots the map of Zurich with the average noise value\n",
    "    :param filename: Shapefile that will be drawn.\n",
    "    :param attribute: Attribute that will be used to create a choropleth map.\n",
    "    :return:\n",
    "    \"\"\"\n",
    "    \n",
    "    vector_map = gpd.read_file(filename)\n",
    "    vector_map.plot(column=attribute)\n",
    "    plt.show()"
   ]
  },
  {
   "cell_type": "markdown",
   "metadata": {},
   "source": [
    "### Funktion zur Berechnung der Lärmmittelwerte pro Kreis"
   ]
  },
  {
   "cell_type": "markdown",
   "metadata": {},
   "source": [
    "#### Aufgabe \n",
    "Berechnen Sie den Durchschnittswert des Rasters (nur nonzero-Werte) für alle Stadtkreise und fügen Sie die Werte in die Liste `average_noise_by_kreis` ein. Diese Liste wird dann an die Hauptfunktion `main()` zurückgegeben."
   ]
  },
  {
   "cell_type": "code",
   "execution_count": 5,
   "metadata": {},
   "outputs": [],
   "source": [
    "def calculate_average_noise(path_to_input_raster, shapes):\n",
    "    \"\"\"\n",
    "    Calculates the average noise per Stadtkreis and returns a list with all noise values\n",
    "    :param path_to_input_raster: The path to the input raster\n",
    "    :param shapes: The extracted geometries from the vector layer that should be used as mask\n",
    "    :return: A list with the average noise per Stadtkreis, depending on the input raster and on the shapes\n",
    "    \"\"\"\n",
    "\n",
    "    # calculate the average value from the input raster for each Polygon\n",
    "    average_noise_by_kreis = list()\n",
    "    with rasterio.open(path_to_input_raster, 'r') as src:\n",
    "        for stadt_kreis in shapes:\n",
    "            kreis = list()\n",
    "            kreis.append(stadt_kreis)\n",
    "\n",
    "            # mask the raster based on the shape of the Stadtkreis\n",
    "            out_i, out_t = rasterio.mask.mask(src, kreis, crop=True)\n",
    "\n",
    "            ###############################################################################################\n",
    "            #\n",
    "            # TODO (1): calculate the mean of all nonzero values and insert it in average_noise_by_kreis list\n",
    "            #\n",
    "            ###############################################################################################\n",
    "\n",
    "    return average_noise_by_kreis"
   ]
  },
  {
   "cell_type": "markdown",
   "metadata": {},
   "source": [
    "### Speicherfunktion für neues Shapefile mit zusätzlichen Attributen"
   ]
  },
  {
   "cell_type": "markdown",
   "metadata": {},
   "source": [
    "Beachten Sie, dass beim letzten übergebenen Argument `schema_info_and_record` ein Stern steht. Das bedeutet, dass alles, was ab dieser Position folgt, in eine Liste gespeichert wird, die als Ganzes an die Funktion übegeben wird. Beachten Sie ebenso, wie wir das Schema ändern, um die beiden neuen Attribute für das output file festzulegen: Wir iterieren durch die Einträge in `*schema_info_and_record` und ziehen daraus die values, die unter den keys `attribute_name` und `data_type` gespeichert sind.  "
   ]
  },
  {
   "cell_type": "code",
   "execution_count": 10,
   "metadata": {},
   "outputs": [],
   "source": [
    "def save_map(open_file, save_file, *schema_info_and_record):\n",
    "    \"\"\"\n",
    "    Saves a new json file and extends the structure by the values passed with average noise values\n",
    "    :param open_file: The path to the GeoJSON file that has to be extended.\n",
    "    :param save_file: The path to the GeoJSON file that should be written.\n",
    "    :param dict schema_info_and_record: A dictionary containing the schema metainformation and the record\n",
    "    :return:\n",
    "    \"\"\"\n",
    "\n",
    "    for entry in schema_info_and_record:\n",
    "        if len(entry['record']) == 0:\n",
    "            print('Empty list provided! Check the function calculate_average_noise()!')\n",
    "            return\n",
    "\n",
    "    with fiona.open(open_file, 'r') as shapefile:\n",
    "        driver = shapefile.driver\n",
    "        crs = shapefile.crs\n",
    "        schema = shapefile.schema.copy()\n",
    "\n",
    "        # Extend the schema by the entries passed in the dictionaries\n",
    "        for j in schema_info_and_record:\n",
    "            schema['properties'][j['attribute_name']] = j['data_type']\n",
    "\n",
    "        # Open the output file\n",
    "        with fiona.open(save_file,\n",
    "                        'w',\n",
    "                        schema=schema,\n",
    "                        driver=driver,\n",
    "                        crs=crs) as tgt:\n",
    "\n",
    "            # Iterate through the entries in the input file and write the record to the output file.\n",
    "            for num, i in enumerate(shapefile):\n",
    "                ###############################################################################################\n",
    "                #\n",
    "                # TODO (2): append the average noise by Stadtkreis, each\n",
    "                # by day and by night, to two new attributes and write the result into the save file.\n",
    "                # Hint: You must also iterate through the entries of schema_info_and_record to get the\n",
    "                # needed information\n",
    "                #\n",
    "                ###############################################################################################\n",
    "\n",
    "                tgt.write(i)\n",
    "    return"
   ]
  },
  {
   "cell_type": "markdown",
   "metadata": {},
   "source": [
    "### Hauptfunktion\n",
    "Bitte beachten Sie, dass das Ausgabefile in den Ausgabeordner `out_dir` gespeichert wird."
   ]
  },
  {
   "cell_type": "code",
   "execution_count": 11,
   "metadata": {},
   "outputs": [],
   "source": [
    "def main():\n",
    "    # load shape file\n",
    "    with fiona.open(os.path.join(data_dir, 'stadtkreise_proj.json'), 'r') as shapefile:\n",
    "        shapes = [feature['geometry'] for feature in shapefile]\n",
    "\n",
    "    # calculate the average value from the night raster for each Polygon\n",
    "    average_noise_by_kreis_day = calculate_average_noise(os.path.join(data_dir, 'strassenlaerm_tag.tif'),\n",
    "                                                                  shapes)\n",
    "    average_noise_by_kreis_night = calculate_average_noise(os.path.join(data_dir, 'strassenlaerm_nacht.tif'),\n",
    "                                                                    shapes)\n",
    "\n",
    "    print(average_noise_by_kreis_day)\n",
    "    print(average_noise_by_kreis_night)\n",
    "\n",
    "    # Define the input and the output path and define a dictionary that contains metadata and\n",
    "    # records for the attributes that will be written to the output file.\n",
    "    # Then, write the attributes to the new file.\n",
    "    open_file = os.path.join(data_dir, 'stadtkreise_proj.json')\n",
    "    save_file = os.path.join(out_dir, 'stadtkreise_proj_extended.json')\n",
    "    schema_info_and_record_day = {'attribute_name': 'avg_strassenlaerm_tag',\n",
    "                                  'data_type': 'float',\n",
    "                                  'record': average_noise_by_kreis_day}\n",
    "    schema_info_and_record_night = {'attribute_name': 'avg_strassenlaerm_nacht',\n",
    "                                    'data_type': 'float',\n",
    "                                    'record': average_noise_by_kreis_night}\n",
    "    save_map(open_file, save_file, schema_info_and_record_day, schema_info_and_record_night)\n",
    "\n",
    "\n",
    "if __name__ == '__main__':\n",
    "    main()"
   ]
  },
  {
   "cell_type": "markdown",
   "metadata": {},
   "source": [
    "Wenn Sie alles richtig gemacht haben, dann sollten Sie folgendes Ergebnis erhalten:\n",
    "\n",
    "[44.97185046090816, 57.328845037724896, 52.58689073236729, 46.99835073110883, 45.82737294675339, 46.47697149536912, 49.57169895262297, 46.781905357515114, 47.003428846795416, 43.05626447131464, 43.35306819734864, 54.9924973204716]\n",
    "\n",
    "[36.67721140199381, 48.46401625072548, 43.95136540036316, 37.18198473897199, 37.22912578547018, 38.1394244656268, 40.546272348190655, 37.63277048155097, 38.40573686657368, 34.140345198171715, 33.50567467919009, 46.02020364415863]"
   ]
  },
  {
   "cell_type": "markdown",
   "metadata": {},
   "source": [
    "### Darstellen der Resultate"
   ]
  },
  {
   "cell_type": "code",
   "execution_count": 12,
   "metadata": {},
   "outputs": [],
   "source": [
    "#show the dataset\n",
    "show_input_map(os.path.join(data_dir, 'strassenlaerm_tag.tif'))\n",
    "show_input_map(os.path.join(data_dir, 'strassenlaerm_nacht.tif'))"
   ]
  },
  {
   "cell_type": "markdown",
   "metadata": {},
   "source": [
    "Zeigen Sie das neue Shapefile als Choroplethenkarte über das Attribut 'avg_strassenlaerm_tag' an und verwenden Sie dafür show_result_map(filename, attribute)."
   ]
  },
  {
   "cell_type": "code",
   "execution_count": 9,
   "metadata": {},
   "outputs": [],
   "source": [
    "# Show the calculated result, each for the noise during the day and during the night on a choropleth map.\n",
    "\n",
    "###############################################################################################\n",
    "#\n",
    "# TODO (3): show the calculated results, using show_result_map(filename, attribute)\n",
    "#\n",
    "###############################################################################################\n"
   ]
  },
  {
   "cell_type": "markdown",
   "metadata": {},
   "source": [
    "## Aufgabe: Vergleichen Sie die Resultate\n",
    "Vergleichen Sie die Resultate zwischen dem Lärm während dem Tag und während der Nacht. Inwiefern unterscheiden sich die Werte? Wie wird das auf den Karten dargestellt? Finden Sie die Darstellung geeignet? Wenn nicht, was müsste man ändern? Wie könnte man das programmiertechnisch ändern?"
   ]
  },
  {
   "cell_type": "markdown",
   "metadata": {},
   "source": [
    "*[Ihre Notizen]*"
   ]
  },
  {
   "cell_type": "markdown",
   "metadata": {},
   "source": [
    "# Erkenntnisse"
   ]
  },
  {
   "cell_type": "markdown",
   "metadata": {},
   "source": [
    "Mit grosser Wahrscheinlichkeit beinhaltete die heutige Übung viel Neues für Sie. Welche Parameter konnten Sie modellieren, welche nicht? Notieren Sie im anschliessenden Feld Ihre wichtigsten Erkenntnisse von heute:"
   ]
  },
  {
   "cell_type": "markdown",
   "metadata": {},
   "source": [
    "*[Ihre Notizen]*"
   ]
  },
  {
   "cell_type": "markdown",
   "metadata": {},
   "source": [
    "# Projekt\n",
    "Arbeiten Sie am Projekt weiter und wenden Sie das, was Sie heute gelernt haben, auf Ihr Projekt an. Gehen Sie auch die weiteren Methoden durch, die Ihnen Rasterio zur Verfügung stellt. Rasterio ist eine sehr mächtiges Rasterverarbeitungslibrary, die sehr viele Anwendungen zulässt."
   ]
  },
  {
   "cell_type": "code",
   "execution_count": null,
   "metadata": {},
   "outputs": [],
   "source": []
  }
 ],
 "metadata": {
  "kernelspec": {
   "display_name": "Python 3",
   "language": "python",
   "name": "python3"
  },
  "language_info": {
   "codemirror_mode": {
    "name": "ipython",
    "version": 3
   },
   "file_extension": ".py",
   "mimetype": "text/x-python",
   "name": "python",
   "nbconvert_exporter": "python",
   "pygments_lexer": "ipython3",
   "version": "3.6.3"
  }
 },
 "nbformat": 4,
 "nbformat_minor": 2
}
