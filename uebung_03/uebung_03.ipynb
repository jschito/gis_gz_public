{
 "cells": [
  {
   "cell_type": "markdown",
   "metadata": {},
   "source": [
    "# GIS GZ – Übung 3: Modellierung"
   ]
  },
  {
   "cell_type": "markdown",
   "metadata": {},
   "source": [
    "## Einleitung\n",
    "In der letzten Übung haben Sie gelernt, wie Sie Geodaten prozessieren und visualisieren kön-nen. Die heutige Übung befasst sich nicht mit Daten, sondern mit der Datenmodellierung. Aus zwei Texten leiten Sie die entsprechenden UML-Diagramme ab und setzen (sofern tech-nisch möglich) die konzeptionelle Modellierung eines Beispiels mit Fiona um. "
   ]
  },
  {
   "cell_type": "markdown",
   "metadata": {},
   "source": [
    "### Grobziele\n",
    "* Sie können ein konzeptionelles Modell erstellen und es in ein logisches Datenmodell und in ein UML-Diagramm überführen. \n",
    "\n",
    "### Feinziele\n",
    "* Sie können ein konzeptionelles Modell erstellen. \n",
    "* Sie können aus einer textuellen Aufgabenstellung ein UML-Diagramm ableiten und zeichnen. \n",
    "* Sie können ein logisches Datenmodell (so weit wie möglich) in Fiona als Schema umsetzen.\n",
    "\n",
    "### Projekt\n",
    "* Sie können das erlernte Wissen der Modellierung auf Ihr Projekt umsetzen."
   ]
  },
  {
   "cell_type": "markdown",
   "metadata": {},
   "source": [
    "## Aufgabe 1: UML-Diagramme ableiten"
   ]
  },
  {
   "cell_type": "markdown",
   "metadata": {},
   "source": [
    "Überführen Sie die folgenden Beschreibungen in jeweils ein UML-Diagramm, das Klassen, Attribute und Kardinalitäten korrekt modelliert. Zum Zeichnen der Diagramme können Sie https://www.draw.io/ verwenden.\n",
    "\n",
    "1. In unserem Verkehrsverbund gibt es Haltestellen mit einem eindeutigen Namen. Eine Haltestelle besteht aus mindestens einem Haltepunkt mit einer Adresse. An einem Haltepunkt fahren eine oder mehrere Linien. Es gibt Buslinien, Tramlinien und S-Bahn-Linien. Eine Linie hat zwei Endhaltestellen.\n",
    "\n",
    "\n",
    "2. Ein Café hat einen Namen und eine Bewertung. Cafés liegen immer an einer Strasse. Es gibt Fahrtstrassen, Fusswege und Nebenstrassen. Zusätzlich gibt es Cafés, die ei-nen oder mehrere Gärten haben. Auch Gärten haben eine Betriebszeit und zusätzlich eine bestimmte Anzahl an Sitzplätzen. Betriebszeiten sind die Wintersaison, Sommer-saison oder ganzjährig. Cafés haben jeweils einen Besitzer, dessen Name, Telefon und Emailadresse bekannt sind."
   ]
  },
  {
   "cell_type": "markdown",
   "metadata": {},
   "source": [
    "## Aufgabe 2: Schema in Fiona festlegen"
   ]
  },
  {
   "cell_type": "markdown",
   "metadata": {},
   "source": [
    "In dieser Aufgabe erhalten Sie die Datei `fliessgewaesser_kanton_zuerich.json`, die einen Auszug aus dem Gewässernetz des Kantons Zürich darstellt (Quelle.: `swissTLM3D` von swisstopo). Die zwei Attribute `VERLAUF` UND `STUFE` enthalten einen Code, der Aussenstehenden nichts aussagt. Daher möchten wir, dass die Bedeutung dieser Codes in zwei neue Attribute hineingeschrieben wird. Zudem wollen wir herausfinden, wie lang jedes Flusssegment ist. Diese Information möchten wir ebenfalls als separates Attribut abspeichern. "
   ]
  },
  {
   "cell_type": "markdown",
   "metadata": {},
   "source": [
    "### Verwendete libraries und Funktionen"
   ]
  },
  {
   "cell_type": "markdown",
   "metadata": {},
   "source": [
    "Zuerst importieren wir die nötigen libraries der heutigen Übung. Standardmässig verwenden wir für `numpy`, `pandas` und `matplotlib` Abkürzungen."
   ]
  },
  {
   "cell_type": "code",
   "execution_count": 32,
   "metadata": {},
   "outputs": [],
   "source": [
    "import os\n",
    "import fiona\n",
    "import matplotlib.pyplot as plt\n",
    "import geopandas\n",
    "from shapely.geometry import MultiLineString"
   ]
  },
  {
   "cell_type": "markdown",
   "metadata": {},
   "source": [
    "Danach definieren wir zwei dictionaries, die wir später zum Nachschlagen der Werte brauchen werden. "
   ]
  },
  {
   "cell_type": "code",
   "execution_count": 33,
   "metadata": {},
   "outputs": [],
   "source": [
    "verlauf_entries = {\n",
    "    100: 'orberirdisch',\n",
    "    200: 'unterirdisch bestimmt',\n",
    "    300: 'unterirdisch unbestimmt'\n",
    "}\n",
    "\n",
    "stufe_entries = {\n",
    "    -2: 'unterirdisch 2. Stufe',\n",
    "    -1: 'unterirdisch 1. Stufe',\n",
    "    0: 'ebenerdig 2. Stufe',\n",
    "    1: 'überirdisch oder schwebend 1. Stufe',\n",
    "    2: 'überirdisch oder schwebend 2. Stufe'\n",
    "}"
   ]
  },
  {
   "cell_type": "markdown",
   "metadata": {},
   "source": [
    "### Zusatzfunktion zum Plotten der Resultate"
   ]
  },
  {
   "cell_type": "code",
   "execution_count": 39,
   "metadata": {},
   "outputs": [],
   "source": [
    "def show_lines():\n",
    "    \"\"\"\n",
    "    Plots the map with the canton of Zurich and the rivers\n",
    "    :return:\n",
    "    \"\"\"\n",
    "\n",
    "    # Plot the map with the communalties\n",
    "    communalities = geopandas.read_file('data\\\\gemeindegrenzen_kanton_zuerich.json')\n",
    "    fig, ax = plt.subplots(figsize=(10, 8))\n",
    "    ax.set_aspect('equal')\n",
    "    communalities.plot(ax=ax, color='white', edgecolor='black')\n",
    "\n",
    "    # Plot the map with the rivers\n",
    "    rivers = geopandas.read_file('data\\\\fliessgewaesser_kanton_zuerich_new.json')\n",
    "    rivers.plot(ax=ax, color='red')    \n",
    "\n",
    "    # Show the whole plot and return\n",
    "    plt.draw()\n",
    "    return"
   ]
  },
  {
   "cell_type": "markdown",
   "metadata": {},
   "source": [
    "### Hauptfunktion: Lösen Sie diese Aufgaben"
   ]
  },
  {
   "cell_type": "markdown",
   "metadata": {},
   "source": [
    "Die folgende Funktion kopiert die Inhalte einer Datei in eine andere. Dabei wird sichergestellt, dass der Geometrietyp in jedem Fall ein MultiLineString sein wird. Wir tun das deshalb, da es vorkommen kann, dass Esri Shapefiles gemischte Feature-Container aufweisen, die sowohl LineStrings als auch MultiLineStings enthalten können. Der Trick dabei: Wir bestimmen für jede Iteration den jeweiligen Geometrietyp und für den Fall, dass dieser ein LineString wäre, packen wir den in eine weitere Liste. Damit wird erfüllt, dass ein MultiLineString-Objekt im Gegensatz zum LineString-Objekt eine Listenebene mehr aufweist.  \n",
    "\n",
    "1. Gehen Sie den Code durch und versuchen Sie, jeden Schritt nachzuvollziehen. \n",
    "2. Berechnen Sie die Länge jedes Abschnitts, indem Sie zuerst aus der Koordinatenliste ein MultiLineString-Objekt erstellen und dann eine geeignete Methode zur Bestimmung der Länge anwenden (siehe https://shapely.readthedocs.io/en/stable/manual.html). Speichern Sie diesen Wert in das neue Attrbut `SECTION_LENGTH`. \n",
    "3. Schlagen Sie die zu den Attributen `VERLAUF` und `STUFE` in den jeweiligen dictionaries die textuelle Bezeichnung nach und speichern Sie diesen Wert in die neuen Attribute `VERLAUF_DESC` und `STUFE_DESC`. \n",
    "\n",
    "Zusatzaufgabe:\n",
    "4. Sie sollten merken, dass die Koordinaten dreidimensional (X, Y, Z) angegeben sind. Extrahieren Sie aus den Koordinatenlisten jeweils nur die X- und die Y-Koordinate und speichern Sie dies in das neue File. Diese Aufgabe ist ein bisschen tricky, das Sie dazu die Geometriedatentypen verstehen müssen – insbesondere, wie die Listen mit den Koordinaten verschachtelt sind. "
   ]
  },
  {
   "cell_type": "code",
   "execution_count": 38,
   "metadata": {},
   "outputs": [
    {
     "name": "stdout",
     "output_type": "stream",
     "text": [
      "\n"
     ]
    }
   ],
   "source": [
    "# Define the input and the output file\n",
    "in_file = os.path.join(os.path.abspath(''), 'data', 'fliessgewaesser_kanton_zuerich.json')\n",
    "out_file = os.path.join(os.path.abspath(''), 'data', 'fliessgewaesser_kanton_zuerich_new.json')\n",
    "\n",
    "# Open the source file\n",
    "with fiona.open(in_file) as src:\n",
    "\n",
    "    # Determine the CRS, the driver, and copy the schema (because dictionaries are mutable).\n",
    "    crs = src.crs\n",
    "    driver = src.driver\n",
    "    schema = src.schema.copy()\n",
    "\n",
    "    # Hint for another time: We assert that the geometry type MUST be set to MultiLineString. The reason is that\n",
    "    # Esri Shapefiles can contain different geometry types in one container, whereas we must be super clear.\n",
    "    schema['geometry'] = 'MultiLineString'\n",
    "\n",
    "    ################################################\n",
    "    #\n",
    "    # MODIFY THE SCHEMA\n",
    "    #\n",
    "    # a) add the length of each section to the new attribute 'SECTION_LENGTH'\n",
    "    # b) add the description of the existing attribute 'VERLAUF' to the new attribute 'VERLAUF_DESC'\n",
    "    # c) add the description of the existing attribute 'STUFE' to the new attribute 'STUFE_DESC'\n",
    "    #\n",
    "    ################################################\n",
    "\n",
    "    # Open the file that should be written and iterate through the entries\n",
    "    with fiona.open(out_file, 'w', driver=driver, schema=schema, crs=crs, encoding='utf-8') as tgt:\n",
    "        for f in src:\n",
    "\n",
    "            # Determine the type for each entry and the coordinates\n",
    "            geom_type = f['geometry']['type']\n",
    "            coords = f['geometry']['coordinates']\n",
    "\n",
    "            # As it can occur that the input geometry object is a LineString or a MultiLineString, we must\n",
    "            # assert that the dimensionality stays the same for both cases. Thus, put the coordinates into a\n",
    "            # further list, if the geometry type should be a LineString\n",
    "            if geom_type == 'LineString':\n",
    "                coords = [coords]\n",
    "\n",
    "            ################################################\n",
    "            #\n",
    "            # DETERMINE THE VALUES THAT SHOULD BE WRITTEN INTO THE ATTRIBUTES\n",
    "            #\n",
    "            ################################################\n",
    "\n",
    "            # Overwrite the type and the coordinates with the new entries\n",
    "            f['geometry']['type'] = 'MultiLineString'\n",
    "            f['geometry']['coordinates'] = coords\n",
    "\n",
    "            ################################################\n",
    "            #\n",
    "            # WRITE THE VALUES TO THE ACCORDING DICTIONARY ENTRY\n",
    "            #\n",
    "            ################################################\n",
    "\n",
    "            tgt.write(f)\n",
    "\n",
    "# Plot the results\n",
    "show_lines()\n",
    "print('Done.')"
   ]
  },
  {
   "cell_type": "markdown",
   "metadata": {},
   "source": [
    "# Erkenntnisse"
   ]
  },
  {
   "cell_type": "markdown",
   "metadata": {},
   "source": [
    "Mit grosser Wahrscheinlichkeit beinhaltete die heutige Übung viel Neues für Sie. Welche Parameter konnten Sie modellieren, welche nicht? Notieren Sie im anschliessenden Feld Ihre wichtigsten Erkenntnisse von heute:"
   ]
  },
  {
   "cell_type": "markdown",
   "metadata": {},
   "source": [
    "*[Ihre Notizen]*"
   ]
  },
  {
   "cell_type": "markdown",
   "metadata": {},
   "source": [
    "# Projekt\n",
    "Arbeiten Sie am Projekt weiter und wenden Sie das, was Sie heute gelernt haben, auf Ihr Projekt an. Bereiten Sie die Daten so vor, dass wir nächste Woche mit der vektorbasierten Datenverarbeitung beginnen können. Bestimmen Sie zudem alle Referenzsysteme Ihrer Daten – es kann nämlich vorkommen, dass die Daten in unterschiedlichen Referenzsystemen gespeichert sind. "
   ]
  }
 ],
 "metadata": {
  "kernelspec": {
   "display_name": "Python 3",
   "language": "python",
   "name": "python3"
  },
  "language_info": {
   "codemirror_mode": {
    "name": "ipython",
    "version": 3
   },
   "file_extension": ".py",
   "mimetype": "text/x-python",
   "name": "python",
   "nbconvert_exporter": "python",
   "pygments_lexer": "ipython3",
   "version": "3.6.3"
  }
 },
 "nbformat": 4,
 "nbformat_minor": 2
}
