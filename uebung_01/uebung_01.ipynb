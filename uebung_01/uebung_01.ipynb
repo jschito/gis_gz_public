{
 "cells": [
  {
   "cell_type": "markdown",
   "metadata": {},
   "source": [
    " # GIS GZ – Übung 1: Einstieg ins Projekt und Repetition von Python"
   ]
  },
  {
   "cell_type": "markdown",
   "metadata": {},
   "source": [
    "## Wichtiges zum Datenhandling\n",
    "Heute arbeiten wir in Jupyter Notebook über die virtuelle Plattform mybinder.org. Damit Ihr Code bei einem Systemfehler nicht verloren geht, speichern Sie immer wieder ein Backup auf Ihre lokale Festplatte. Vergessen Sie am Schluss nicht, Ihre Dateien in Ihren persönlichen Ordner zu speichern. "
   ]
  },
  {
   "cell_type": "markdown",
   "metadata": {},
   "source": [
    "## Einleitung\n",
    "In der heutigen Übung greifen Sie Ihre bisherigen Kenntnisse in Python auf. Dabei erstellen Sie erstens einen Glättungsalgorithmus, der Ihnen über eine Suchmatrix die Werte des Zentroiden glättet. Zweitens stellen Sie das Kinosterben in Zürich dar, indem Sie einen tabellarischen Datensatz laden und eine Funktion erstellen, die Ihnen ausgibt, wie viele Kinos in welchem Jahr offen waren. Dabei arbeiten Sie mit den libraries pandas (optional csv), numpy und matplotlib."
   ]
  },
  {
   "cell_type": "markdown",
   "metadata": {},
   "source": [
    "## Lernziele\n",
    "* Sie können Vor- und Nachteile unterschiedlicher Datentypen gegeneinander abwägen.\n",
    "* Sie können in Python libraries importieren, Daten laden und speichern, loops und if-statements durchführen, Variablen speichern und abrufen, Funktionen erstellen und Code debuggen.\n",
    "* Sie können sich in einem Team organisieren und Aufgaben gemeinsam lösen.\n",
    "* Freiwillig: Sie können eine eigene Python-Umgebung einrichten."
   ]
  },
  {
   "cell_type": "markdown",
   "metadata": {},
   "source": [
    "## Verwendete libraries und Funktionen"
   ]
  },
  {
   "cell_type": "markdown",
   "metadata": {},
   "source": [
    "Zuerst importieren wir die nötigen libraries der heutigen Übung. Standardmässig verwenden wir für `numpy`, `pandas` und `matplotlib` Abkürzungen."
   ]
  },
  {
   "cell_type": "code",
   "execution_count": 2,
   "metadata": {},
   "outputs": [],
   "source": [
    "import os\n",
    "import numpy as np\n",
    "import pandas as pd\n",
    "import csv\n",
    "import matplotlib.pyplot as plt\n",
    "import geopandas\n",
    "from shapely.geometry import Point\n",
    "from datetime import date"
   ]
  },
  {
   "cell_type": "markdown",
   "metadata": {},
   "source": [
    "Anschliessend definieren wir eine Funktion, die Ihnen X- und Y-Werte als Plot ausgibt."
   ]
  },
  {
   "cell_type": "code",
   "execution_count": 3,
   "metadata": {},
   "outputs": [],
   "source": [
    "def show_points(df):\n",
    "    \"\"\"\n",
    "    Shows the points passed with the data frame\n",
    "    :param df: The data frame that contains the points that should be visualized\n",
    "    :return:\n",
    "    \"\"\"\n",
    "\n",
    "    # Plot the district map\n",
    "    district_map = geopandas.read_file('data\\\\stadtkreis.json')\n",
    "    fig, ax = plt.subplots(figsize=(10, 8))\n",
    "    ax.set_aspect('equal')\n",
    "    district_map.plot(ax=ax, color='white', edgecolor='black')\n",
    "\n",
    "    # Translate the points from the dataframe to Point objects, import them to a geodataframe with LV95 as source\n",
    "    # CRS, project the geodataframe to WGS84 and display it\n",
    "    geometry = [Point(xy) for xy in zip(df['X_LV95'], df['Y_LV95'])]\n",
    "    gdf = geopandas.GeoDataFrame(df, geometry=geometry, crs={'init': 'epsg:2056'})\n",
    "    gdf = gdf.to_crs({'init': 'epsg:4326'})\n",
    "    gdf.plot(ax=ax, color='red')\n",
    "\n",
    "    # Show the whole plot and return\n",
    "    plt.draw()\n",
    "    return"
   ]
  },
  {
   "cell_type": "markdown",
   "metadata": {},
   "source": [
    "Zudem brauchen wir eine Funktion, die uns Rasterdaten anzeigt"
   ]
  },
  {
   "cell_type": "code",
   "execution_count": 6,
   "metadata": {},
   "outputs": [],
   "source": [
    "def show_raster(array_1, array_2):\n",
    "    \"\"\"\n",
    "    Visualizes two rasters next to each other\n",
    "    :param array_1: The raster that should be displayed on the left\n",
    "    :param array_2: The raster that should be displayed on the right\n",
    "    :return:\n",
    "    \"\"\"\n",
    "\n",
    "    # Create a figure with one row and two columns\n",
    "    fig = plt.figure(figsize=(10, 20))\n",
    "\n",
    "    # Add a first subplot on the left\n",
    "    fig.add_subplot(121)\n",
    "    plt.imshow(array_1)\n",
    "\n",
    "    # Add another subplot on the right\n",
    "    fig.add_subplot(122)\n",
    "    plt.imshow(array_2)\n",
    "\n",
    "    # Show the plot and return\n",
    "    plt.show()\n",
    "    return"
   ]
  },
  {
   "cell_type": "markdown",
   "metadata": {},
   "source": [
    "## Aufgabe 1"
   ]
  },
  {
   "cell_type": "markdown",
   "metadata": {},
   "source": [
    "Definieren Sie ein zweidimensionales numpy array mit 100 Spalten und 100 Zeilen und weisen Sie jeder Zelle einen zufälligen Ganzzahlenwert von 0 und 255 zu. \n",
    "$$0 \\leq x \\leq 255$$\n",
    "\n",
    "Erstellen Sie ein zweites array in derselben Grösse und glätten Sie die Werte des ursprünglichen arrays, indem Sie pro Zelle den Mittelwert der 8 umliegenden Zellen und der Zentrumszelle berechnen und diesen Mittelwert der Zentrumszelle zuweisen. \n",
    "*Hinweis: Vergessen Sie dabei nicht, dass Zellen ausserhalb des numpy arrays liegen, nicht berücksichtigt werden dürfen.*\n",
    "\n",
    "<img src=\"images/lattices_r1.png\" alt=\"Image_01\" style=\"width: 150px;\"/>\n",
    "\n",
    "Stellen Sie beide arrays mit der Funktion `show_raster` dar und beschreiben Sie die Unterschiede."
   ]
  },
  {
   "cell_type": "code",
   "execution_count": null,
   "metadata": {},
   "outputs": [],
   "source": []
  },
  {
   "cell_type": "markdown",
   "metadata": {},
   "source": [
    "## Aufgabe 2"
   ]
  },
  {
   "cell_type": "markdown",
   "metadata": {},
   "source": [
    "Laden Sie die `kinos.csv` entweder mit `csv` oder mit `pandas` in ein Datenobjekt. Wenden Sie einen Filter an, der Ihnen nur die Kinos anzeigt, die aktuell in Betrieb sind. Erzeugen Sie aus dieser Teilmenge einen Plot der X-, und Y-Koordinaten. In welchem Datum wurden die Koordinaten abgespeichert?\n",
    "\n",
    "*Hinweis: Spaltennamen = `X_LV95`,`Y_LV95`.*\n",
    "*Hinweis: Transformieren Sie den String mit dem Jahr in den datetime-Datentyp. Vielleicht könnte es auch nützlich sein, sich nur auf das Jahr zu beschränken.*\n",
    "\n",
    "Gruppieren Sie anschliessend die Kinos nach der Kategorie `BisISO`. Erzeugen Sie einen 2D Scatterplot aller Kinos, die vor 1970 geschlossen wurden und einen Plot mit den restlichen Kinos, die 1970 und später geschlossen wurden.\n",
    "\n",
    "Zusatzaufgabe: Erstellen Sie eine Funktion, in die Sie das Jahr eingeben und die Ihnen als Ausgabewert die Anzahl an Kinos angibt, die in diesem Jahr offen waren. "
   ]
  },
  {
   "cell_type": "code",
   "execution_count": null,
   "metadata": {},
   "outputs": [],
   "source": []
  },
  {
   "cell_type": "markdown",
   "metadata": {},
   "source": [
    "# Projekt\n",
    "Formieren Sie sich in Dreiergruppen (oder Vierergruppen, wenn nicht anders möglich) und wählen Sie ein Thema oder erstellen Sie ein Konzept. Wichtig: Ihre Gruppe und Ihr Thema muss von der Übungsleitung abgesegnet werden, ehe Sie beginnen. Lesen Sie daher die Anforderungen an das Projekt nochmals genau durch. Definieren Sie den Arbeitsablauf ganz genau und überlegen Sie sich im Vornherein, welche Funktionen sich kombinieren lassen, um zu Ihrem gewünschten Resultat zu gelangen. Suchen Sie anschliessend nach den Daten (oder fragen Sie die Übungleitung)."
   ]
  }
 ],
 "metadata": {
  "kernelspec": {
   "display_name": "Python 3",
   "language": "python",
   "name": "python3"
  },
  "language_info": {
   "codemirror_mode": {
    "name": "ipython",
    "version": 3
   },
   "file_extension": ".py",
   "mimetype": "text/x-python",
   "name": "python",
   "nbconvert_exporter": "python",
   "pygments_lexer": "ipython3",
   "version": "3.6.3"
  }
 },
 "nbformat": 4,
 "nbformat_minor": 2
}
