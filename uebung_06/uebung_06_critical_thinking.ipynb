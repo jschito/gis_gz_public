{
 "cells": [
  {
   "cell_type": "markdown",
   "metadata": {},
   "source": [
    "# GIS GZ – Übung 6: Geoprocessing mit Netzwerken – Critical Thinking"
   ]
  },
  {
   "cell_type": "markdown",
   "metadata": {},
   "source": [
    "## Inhalt"
   ]
  },
  {
   "cell_type": "markdown",
   "metadata": {},
   "source": [
    "Das Ziel dieses Teils der Übung ist es, Ihr kritisches Denken zu schärfen."
   ]
  },
  {
   "cell_type": "markdown",
   "metadata": {},
   "source": [
    "## Aufgabe 1\n",
    "\n",
    "Der Code in der folgenden Zelle ist bereits aus Teil 2 bekannt:"
   ]
  },
  {
   "cell_type": "code",
   "execution_count": 1,
   "metadata": {},
   "outputs": [],
   "source": [
    "import rasterio\n",
    "from shapely.geometry import LineString\n",
    "import networkx as nx\n",
    "import numpy as np\n",
    "import matplotlib.pyplot as plt\n",
    "import rasterio.plot as rplot\n",
    "import os\n",
    "\n",
    "default_lattice = [[((0, 0), 1.0 / 2.0), (( 0,  1), 1.0 / 2.0)],\n",
    "                   [((0, 0), 1.0 / 2.0), (( 1,  0), 1.0 / 2.0)],\n",
    "                   [((0, 0), 1.0 / 2.0), ((-1,  0), 1.0 / 2.0)],\n",
    "                   [((0, 0), 1.0 / 2.0), (( 0, -1), 1.0 / 2.0)],\n",
    "                   [((0, 0), np.sqrt(2) / 2.0), ((-1,  1), np.sqrt(2) / 2.0)],\n",
    "                   [((0, 0), np.sqrt(2) / 2.0), (( 1,  1), np.sqrt(2) / 2.0)],\n",
    "                   [((0, 0), np.sqrt(2) / 2.0), ((-1, -1), np.sqrt(2) / 2.0)],\n",
    "                   [((0, 0), np.sqrt(2) / 2.0), (( 1, -1), np.sqrt(2) / 2.0)]\n",
    "                  ]\n",
    "\n",
    "\n",
    "def calc_least_cost_path(path, band=1, source_coord=(0, 0), target_coord=(0, 0), matrix=default_lattice):\n",
    "    \"\"\"\n",
    "    Create a graph with the weighted edges based on the cost surface and compute the least cost path\n",
    "    \n",
    "    Args:\n",
    "        path (str): Path to the input raster file that represents the cost surface\n",
    "        band (int): The band of the raster file that contains the cost values\n",
    "        source_coord (tuple): The coordinate pair of the source point, given in the same CRS as the cost surface\n",
    "        target_coord (tuple): The coordinate pair of the target point, given in the same CRS as the cost surface\n",
    "        matrix (list): The lattice (search kernel) used to determine the least cost neighbors\n",
    "        \n",
    "    \n",
    "    Returns:\n",
    "        The total costs and a LineString object of the least cost path\n",
    "    \"\"\"\n",
    "\n",
    "    # Open Raster\n",
    "    with rasterio.open(path) as src:\n",
    "\n",
    "        fwd = src.transform\n",
    "        data = src.read(band)\n",
    "        NODATA = src.meta['nodata']\n",
    "\n",
    "        print(\"-- Create Graph --\")\n",
    "        G = nx.DiGraph()\n",
    "\n",
    "\n",
    "        # Create edges\n",
    "        _edges = []\n",
    "\n",
    "        for i in range(src.width):\n",
    "            for j in range(src.height):\n",
    "\n",
    "                for edge in matrix:\n",
    "\n",
    "                    (start_i, start_j), _ = edge[0]\n",
    "                    start_node = (start_i + i, start_j + j)\n",
    "\n",
    "                    (end_i, end_j), _ = edge[-1]\n",
    "                    end_node = (end_i + i, end_j + j)\n",
    "\n",
    "                    # We only consider edges within the study area that have a value\n",
    "                    if ((0 <= start_node[0] < src.width and 0 <= start_node[1] < src.height) and\n",
    "                            (0 <= end_node[0] < src.width and 0 <= end_node[1] < src.height) and\n",
    "                            (not data[j, i] == NODATA)):\n",
    "\n",
    "                        # Calculate cost of edge\n",
    "                        cost = 0.0\n",
    "                        has_nodata = False\n",
    "                        for k in edge:\n",
    "                            (k_i, k_j), w_k = k\n",
    "                            d = data[k_j + j, k_i + i]\n",
    "                            if d == NODATA:\n",
    "                                has_nodata = True\n",
    "                                break\n",
    "                            cost += d * w_k\n",
    "\n",
    "                        if not has_nodata:\n",
    "                            _edges.append((start_node, end_node, cost))\n",
    "\n",
    "        G.add_weighted_edges_from(_edges)\n",
    "\n",
    "        print(\"\")\n",
    "        print(\"\\t Created graph with:\")\n",
    "        print(\"\\t # Vertex: {}\".format(G.number_of_nodes()))\n",
    "        print(\"\\t # Edges: {} \".format(G.number_of_edges()))\n",
    "        print(\"\")\n",
    "\n",
    "        # Find shortest path and return total cost and LineString of found path\n",
    "        print(\"-- Find shortest path --\")\n",
    "        source_node = tuple(map(int, ~fwd * source_coord))\n",
    "        target_node = tuple(map(int, ~fwd * target_coord))\n",
    "\n",
    "        tot_cost, path = nx.single_source_dijkstra(G,\n",
    "                                                   source=source_node,\n",
    "                                                   target=target_node,\n",
    "                                                   weight='weight')\n",
    "\n",
    "        _coords = []\n",
    "        for p in path:\n",
    "            # We add 0.5 to p to get coordinate of middle of corresponding cell\n",
    "            x, y = fwd * (p[0] + 0.5, p[1] + 0.5)\n",
    "            _coords.append((x, y))\n",
    "\n",
    "        ls = LineString(_coords)\n",
    "\n",
    "        print(\"\")\n",
    "        print(\"\\t Found path with:\")\n",
    "        print(\"\\t\\t # Path costs: {}\".format(tot_cost))\n",
    "        print(\"\\t\\t # Path length: {} \".format(ls.length))\n",
    "        print(\"\")\n",
    "\n",
    "    return tot_cost, ls\n",
    "\n",
    "\n",
    "def plot_result(lss, cost_surface=None):\n",
    "    \"\"\"\n",
    "    Plots the LineString object by using Rasterio plot\n",
    "    \n",
    "    Args:\n",
    "        ls (LineString): The LineString object of the least cost path\n",
    "        cost_surface (str): The path to the cost surface that should be displayed\n",
    "        cost_surface_polygon (Polygon): The Polygon object that should be displayed\n",
    "        restricted_area (str): The path to the restricted area that should be displayed\n",
    "\n",
    "    \"\"\"\n",
    "    fig = plt.figure()\n",
    "    ax = fig.add_subplot(111)\n",
    "    if cost_surface is not None:\n",
    "        with rasterio.open(cost_surface) as src:\n",
    "            rplot.show(src, ax=ax, zorder=10)\n",
    "\n",
    "    if not isinstance(lss, list):\n",
    "        lss = [lss]\n",
    "\n",
    "    for ls in lss:\n",
    "        x, y = ls.xy\n",
    "        ax.plot(x, y,\n",
    "                color='k',\n",
    "                alpha=0.7,\n",
    "                linewidth=3,\n",
    "                solid_capstyle='round',\n",
    "                zorder=1000)\n",
    "\n",
    "    plt.show()\n",
    "    return"
   ]
  },
  {
   "cell_type": "markdown",
   "metadata": {},
   "source": [
    "Wir berechnen nun den Least Cost Path für einen \"synthetischen\" Test case (`\"synthetic.tif\"`). Wir berechnen den Least Cost Path von Start nach Ziel, sowie von Ziel nach Start. Wie Sie selber überprüfen können, gibt der Algorithmus verschiedene Least Cost Paths zurück.\n",
    "\n",
    "* **Wie können Sie sich dieses Phänomen algorithmisch erkären?**\n",
    "* **Was bedeutet dies für Sie, falls Sie in der Praxis jemals ein LCP Problem berechnen müssen?**"
   ]
  },
  {
   "cell_type": "code",
   "execution_count": 2,
   "metadata": {},
   "outputs": [
    {
     "name": "stdout",
     "output_type": "stream",
     "text": [
      "-- Create Graph --\n",
      "\n",
      "\t Created graph with:\n",
      "\t # Vertex: 13530\n",
      "\t # Edges: 106114 \n",
      "\n",
      "-- Find shortest path --\n",
      "\n",
      "\t Found path with:\n",
      "\t\t # Path costs: 52337.842389612095\n",
      "\t\t # Path length: 6814.823227814081 \n",
      "\n",
      "-- Create Graph --\n",
      "\n",
      "\t Created graph with:\n",
      "\t # Vertex: 13530\n",
      "\t # Edges: 106114 \n",
      "\n",
      "-- Find shortest path --\n",
      "\n",
      "\t Found path with:\n",
      "\t\t # Path costs: 52337.842389612095\n",
      "\t\t # Path length: 6814.823227814081 \n",
      "\n"
     ]
    },
    {
     "data": {
      "image/png": "[encoded data removed]",
      "text/plain": [
       "<Figure size 432x288 with 1 Axes>"
      ]
     },
     "metadata": {
      "needs_background": "light"
     },
     "output_type": "display_data"
    }
   ],
   "source": [
    "cost_surface_path = os.path.join(\"data\", \"synthetic.tif\")\n",
    "source_coord = (2600080, 2198530)\n",
    "target_coord = (2604933, 2196749)\n",
    "\n",
    "cost_s_to_t, ls_s_to_t  = calc_least_cost_path(path=cost_surface_path,\n",
    "                             band=1,\n",
    "                             source_coord=source_coord, \n",
    "                             target_coord=target_coord,\n",
    "                             matrix=default_lattice)\n",
    "\n",
    "cost_t_to_s, ls_t_to_s  = calc_least_cost_path(path=cost_surface_path,\n",
    "                             band=1,\n",
    "                             source_coord=target_coord, \n",
    "                             target_coord=source_coord,\n",
    "                             matrix=default_lattice)\n",
    "\n",
    "plot_result([ls_s_to_t, ls_t_to_s], cost_surface=cost_surface_path)"
   ]
  },
  {
   "cell_type": "markdown",
   "metadata": {},
   "source": [
    "## Aufgabe 2\n",
    "\n",
    "Bis jetzt haben wir angenommen, dass die Kosten der Kante zwischen zwei Zellen, unabhängig der Richtung, gleich ist. D.h. die Kosten um von Zelle A zu Nachbarzelle B zu kommen, sind die gleichen, wie von Zelle B zu Zelle A. Mit dieser Annahme können wir jedoch nicht alle Probleme lösen.\n",
    "\n",
    "Zum Beispiel:\n",
    "* Ein Auto benötigt mehr Energie wenn es aufwärte fährt als wenn es abwärts fährt. D.h. der Energieverbrauch ist abhängig der Fahrtrichtung (und natürlich der Topographie).\n",
    "* Die maximale Geschwindigkeit eines Segelbotes in eine bestimmte Richtung zu segeln ist nicht nur abhängig von der Windstärke, sondern auch der Windrichtung.\n",
    "\n",
    "**Überlegen Sie sich, wie Sie den Least Cost Path Algorithmus verändern müssen, um diese Art von Problemen lösen zu können.**\n"
   ]
  },
  {
   "cell_type": "markdown",
   "metadata": {},
   "source": [
    "## Aufgabe 3\n",
    "\n",
    "Bis jetzt haben wir angenommen, dass der least cost path eine kontinuierliche Verbindung von Zellen von Start zu Ziel sein muss. Im Falle von Stromleitungen könnte man aber argumentieren, dass nur die Positionen der Masten relevant sind. Zum Beispiel darf ein Mast nicht auf einer Strasse platziert werden, aber eine Stromleitung darf über eine Strasse führen. Es muss aber ein Minimal-, bzw. Maximalabstand zwischen Masten eingehalten werden. \n",
    "\n",
    "**Überlegen Sie sich, wie Sie den Least Cost Path Algorithmus verändern müssen, um diese Art von Problemen lösen zu können.**\n"
   ]
  },
  {
   "cell_type": "code",
   "execution_count": null,
   "metadata": {},
   "outputs": [],
   "source": []
  }
 ],
 "metadata": {
  "kernelspec": {
   "display_name": "Python 3",
   "language": "python",
   "name": "python3"
  },
  "language_info": {
   "codemirror_mode": {
    "name": "ipython",
    "version": 3
   },
   "file_extension": ".py",
   "mimetype": "text/x-python",
   "name": "python",
   "nbconvert_exporter": "python",
   "pygments_lexer": "ipython3",
   "version": "3.6.3"
  }
 },
 "nbformat": 4,
 "nbformat_minor": 2
}
