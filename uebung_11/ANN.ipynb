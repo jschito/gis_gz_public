{
 "cells": [
  {
   "cell_type": "code",
   "execution_count": 1,
   "metadata": {},
   "outputs": [],
   "source": [
    "%matplotlib notebook\n",
    "import numpy as np\n",
    "from sklearn.datasets.samples_generator import make_blobs\n",
    "import matplotlib.pyplot as plt\n",
    "from sklearn.neighbors.kd_tree import KDTree\n",
    "from ipywidgets import interactive, interact\n",
    "import ipywidgets as widgets\n",
    "import scipy.stats as st"
   ]
  },
  {
   "cell_type": "code",
   "execution_count": 2,
   "metadata": {},
   "outputs": [],
   "source": [
    "n = 80\n",
    "width = 6\n",
    "height = 8"
   ]
  },
  {
   "cell_type": "code",
   "execution_count": 3,
   "metadata": {},
   "outputs": [],
   "source": [
    "def plot_ann(sampling):\n",
    "\n",
    "    if sampling == \"random\":\n",
    "        xs = np.random.uniform(0, width, n)\n",
    "        ys = np.random.uniform(0, height, n)\n",
    "        pts = np.vstack((xs, ys)).T\n",
    "\n",
    "    elif sampling == \"clustered\":\n",
    "\n",
    "        centers = [(5, 3), (2, 4)]\n",
    "        cluster_std = [0.3, 0.5]\n",
    "\n",
    "        pts, c = make_blobs(n_samples=n, cluster_std=cluster_std, centers=centers, n_features=2, random_state=0)\n",
    "\n",
    "    elif sampling == \"regular\":\n",
    "\n",
    "        nx = int(np.sqrt(n * 1.9))\n",
    "        X, Y = np.mgrid[0:width:complex(0, nx), 0:height:complex(0, nx)]\n",
    "        pts = np.vstack([X.ravel(), Y.ravel()]).T\n",
    "\n",
    "        idx = np.random.choice(pts.shape[0], n, replace=False)\n",
    "        pts = pts[idx, :]\n",
    "\n",
    "    mins = np.min(pts, axis=0)\n",
    "    maxs = np.max(pts, axis=0)\n",
    "\n",
    "    N = pts.shape[0]\n",
    "    A = (maxs[0] - mins[0]) * (maxs[1] - mins[1])\n",
    "\n",
    "    # Calculate expected distance\n",
    "    D_e = 0.5 / np.sqrt(N / A)\n",
    "\n",
    "    # Calculate observed distance\n",
    "    tree = KDTree(pts, leaf_size=2)\n",
    "    dist, _ = tree.query(pts, k=2)\n",
    "    D_o = np.mean(dist, axis=0)[1]\n",
    "\n",
    "    ANN = D_o / D_e\n",
    "    \n",
    "    s = 0.26136 / np.sqrt(N**2 / A)\n",
    "    z_score = (D_o - D_e) / s\n",
    "    \n",
    "    p_value = 1.0 - st.norm.cdf(z_score) \n",
    "\n",
    "    fig = plt.figure(figsize=(10, 10))\n",
    "\n",
    "\n",
    "    cluster_trend = \"Clustering (ANN < 1)\"\n",
    "    if ANN > 1:\n",
    "        cluster_trend = \"Dispersion (ANN > 1)\"\n",
    "\n",
    "    # Z: {} P: {}\n",
    "    plt.title(\"{}: ANN: {} --> Trend: {}\".format(sampling.capitalize(),\n",
    "                                                 round(ANN, 4),\n",
    "                                                 cluster_trend,\n",
    "                                                 round(z_score, 2),\n",
    "                                                 round(p_value, 2)))\n",
    "\n",
    "\n",
    "    # Data points\n",
    "    plt.scatter(pts[:, 0],\n",
    "                pts[:, 1],\n",
    "                s=10)\n",
    "\n",
    "    plt.xlim(mins[0] - 0.5, maxs[0] + 0.5)\n",
    "    plt.ylim(mins[1] - 0.5, maxs[1] + 0.5)\n",
    "\n",
    "    # ax = ...\n",
    "    text = plt.text(0,0, \"\", va=\"bottom\", ha=\"left\")\n",
    "\n",
    "    def onclick(event):\n",
    "        tx = 'button=%d, x=%d, y=%d, xdata=%f, ydata=%f' % (event.button, event.x, event.y, event.xdata, event.ydata)\n",
    "        text.set_text(tx)\n",
    "\n",
    "    cid = fig.canvas.mpl_connect('button_press_event', onclick)\n",
    "\n",
    "    \n",
    "    plt.show()"
   ]
  },
  {
   "cell_type": "code",
   "execution_count": 4,
   "metadata": {
    "scrolled": false
   },
   "outputs": [
    {
     "data": {
      "application/vnd.jupyter.widget-view+json": {
       "model_id": "2a3f042efd854ade95cdb38cd89b8868",
       "version_major": 2,
       "version_minor": 0
      },
      "text/plain": [
       "interactive(children=(Dropdown(description='Number:', index=1, options=('random', 'clustered', 'regular'), val…"
      ]
     },
     "metadata": {},
     "output_type": "display_data"
    }
   ],
   "source": [
    "interact(plot_ann,\n",
    "         sampling=widgets.Dropdown(\n",
    "    options=['random', 'clustered', 'regular'],\n",
    "    value='clustered',\n",
    "    description='Number:',\n",
    "    disabled=False,\n",
    ")\n",
    "         );"
   ]
  },
  {
   "cell_type": "code",
   "execution_count": null,
   "metadata": {},
   "outputs": [],
   "source": []
  },
  {
   "cell_type": "code",
   "execution_count": null,
   "metadata": {},
   "outputs": [],
   "source": []
  }
 ],
 "metadata": {
  "kernelspec": {
   "display_name": "Python 3",
   "language": "python",
   "name": "python3"
  },
  "language_info": {
   "codemirror_mode": {
    "name": "ipython",
    "version": 3
   },
   "file_extension": ".py",
   "mimetype": "text/x-python",
   "name": "python",
   "nbconvert_exporter": "python",
   "pygments_lexer": "ipython3",
   "version": "3.6.3"
  }
 },
 "nbformat": 4,
 "nbformat_minor": 2
}
